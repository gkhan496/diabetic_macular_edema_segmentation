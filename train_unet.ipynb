{
  "nbformat": 4,
  "nbformat_minor": 0,
  "metadata": {
    "colab": {
      "name": "Copy of trainUnet.ipynb",
      "version": "0.3.2",
      "provenance": [],
      "collapsed_sections": []
    },
    "kernelspec": {
      "name": "python3",
      "display_name": "Python 3"
    },
    "accelerator": "TPU"
  },
  "cells": [
    {
      "metadata": {
        "id": "hPNgnjxEzzAm",
        "colab_type": "code",
        "colab": {}
      },
      "cell_type": "code",
      "source": [
        "from model import *\n",
        "from data import *"
      ],
      "execution_count": 0,
      "outputs": []
    },
    {
      "metadata": {
        "id": "MUsLJbvEzzAx",
        "colab_type": "text"
      },
      "cell_type": "markdown",
      "source": [
        "### Train with data generator"
      ]
    },
    {
      "metadata": {
        "id": "GzI4DwlCzzAy",
        "colab_type": "code",
        "colab": {}
      },
      "cell_type": "code",
      "source": [
        "data_gen_args = dict(rotation_range=0.2,\n",
        "                    width_shift_range=0.05,\n",
        "                    height_shift_range=0.05,\n",
        "                    shear_range=0.05,\n",
        "                    zoom_range=0.05,\n",
        "                    horizontal_flip=True,\n",
        "                    fill_mode='nearest')\n",
        "myGene = trainGenerator(2,'data/dme/train','image','label',data_gen_args,save_to_dir = None)\n",
        "model = unet()\n",
        "model_checkpoint = ModelCheckpoint('unet_dme.hdf5', monitor='loss',verbose=1, save_best_only=True)\n",
        "model.fit_generator(myGene,steps_per_epoch=2000,epochs=3,callbacks=[model_checkpoint])"
      ],
      "execution_count": 0,
      "outputs": []
    },
    {
      "metadata": {
        "id": "Lx8_f-YHzzA4",
        "colab_type": "text"
      },
      "cell_type": "markdown",
      "source": [
        "### test your model and save predicted results"
      ]
    },
    {
      "metadata": {
        "id": "GMjVRnjFzzA6",
        "colab_type": "code",
        "colab": {}
      },
      "cell_type": "code",
      "source": [
        "testGene = testGenerator(\"data/dme/test\")\n",
        "model = unet()\n",
        "model.load_weights(\"unet_dme.hdf5\")\n",
        "results = model.predict_generator(testGene,5,verbose=1)\n",
        "saveResult(\"data/dme/test\",results)"
      ],
      "execution_count": 0,
      "outputs": []
    }
  ]
}