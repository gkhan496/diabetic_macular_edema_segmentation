{
  "nbformat": 4,
  "nbformat_minor": 0,
  "metadata": {
    "colab": {
      "name": "Copy of dataPrepare.ipynb",
      "version": "0.3.2",
      "provenance": []
    },
    "kernelspec": {
      "display_name": "Python 3",
      "language": "python",
      "name": "python3"
    }
  },
  "cells": [
    {
      "metadata": {
        "id": "CLAuKXvu0d4U",
        "colab_type": "code",
        "colab": {}
      },
      "cell_type": "code",
      "source": [
        "from data import *"
      ],
      "execution_count": 0,
      "outputs": []
    },
    {
      "metadata": {
        "id": "_CT4ArPH0d4b",
        "colab_type": "code",
        "colab": {}
      },
      "cell_type": "code",
      "source": [
        "#if you don't want to do data augmentation, set data_gen_args as an empty dict.\n",
        "#data_gen_args = dict() ++\n",
        "\n",
        "data_gen_args = dict(rotation_range=0.2,\n",
        "                    width_shift_range=0.05,\n",
        "                    height_shift_range=0.05,\n",
        "                    shear_range=0.05,\n",
        "                    zoom_range=0.05,\n",
        "                    horizontal_flip=True,\n",
        "                    fill_mode='nearest')\n",
        "myGenerator = trainGenerator(20,'data/dme/train','image','label',data_gen_args,save_to_dir = \"data/dme/train/aug\")"
      ],
      "execution_count": 0,
      "outputs": []
    },
    {
      "metadata": {
        "id": "jH6u5T9E0d4d",
        "colab_type": "text"
      },
      "cell_type": "markdown",
      "source": [
        "## visualize your data augmentation result"
      ]
    },
    {
      "metadata": {
        "id": "1_N0V3FI0d4e",
        "colab_type": "code",
        "colab": {}
      },
      "cell_type": "code",
      "source": [
        "#you will see 60 transformed images and their masks in data/dme/train/aug\n",
        "num_batch = 3\n",
        "for i,batch in enumerate(myGenerator):\n",
        "    if(i >= num_batch):\n",
        "        break"
      ],
      "execution_count": 0,
      "outputs": []
    },
    {
      "metadata": {
        "id": "EYzg4FmH0d4g",
        "colab_type": "text"
      },
      "cell_type": "markdown",
      "source": [
        "## create .npy data\n",
        "\n",
        "If your computer has enough memory, you can create npy files containing all your images and masks, and feed your DNN with them."
      ]
    },
    {
      "metadata": {
        "id": "2WDkx-fz0d4h",
        "colab_type": "code",
        "colab": {}
      },
      "cell_type": "code",
      "source": [
        "image_arr,mask_arr = geneTrainNpy(\"data/dme/train/aug/\",\"data/dme/train/aug/\")"
      ],
      "execution_count": 0,
      "outputs": []
    }
  ]
}